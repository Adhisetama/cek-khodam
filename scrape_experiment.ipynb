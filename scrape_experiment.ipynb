{
 "cells": [
  {
   "cell_type": "markdown",
   "metadata": {},
   "source": [
    "coba ngescraping list khodam dari *https://check-your-khodam.vercel.app*"
   ]
  },
  {
   "cell_type": "code",
   "execution_count": 5,
   "metadata": {},
   "outputs": [],
   "source": [
    "from selenium import webdriver\n",
    "from selenium.webdriver.common.by import By\n",
    "from selenium.webdriver.chrome.service import Service\n",
    "from selenium.webdriver.chrome.options import Options\n",
    "from selenium.webdriver.support.ui import WebDriverWait\n",
    "from selenium.webdriver.support import expected_conditions as EC\n",
    "from selenium.webdriver.common.keys import Keys\n",
    "\n",
    "# Set up Chrome options\n",
    "chrome_options = Options()\n",
    "chrome_options.add_argument(\"--headless\")  # Run headlessly if you don't need a GUI\n",
    "chrome_options.add_argument(\"--no-sandbox\")\n",
    "chrome_options.add_argument(\"--disable-dev-shm-usage\")\n",
    "\n",
    "# Set up the ChromeDriver service\n",
    "service = Service()  # Ensure this path is correct for your system\n",
    "\n",
    "# Initialize the WebDriver\n",
    "driver = webdriver.Chrome(service=service, options=chrome_options)"
   ]
  },
  {
   "cell_type": "code",
   "execution_count": 6,
   "metadata": {},
   "outputs": [
    {
     "name": "stdout",
     "output_type": "stream",
     "text": [
      "Arwah Kocak\n",
      "Raja Beruang\n",
      "Orang Normal 😀\n"
     ]
    }
   ],
   "source": [
    "try:\n",
    "    url = 'https://check-your-khodam.vercel.app'\n",
    "    driver.get(url)\n",
    "\n",
    "    for _ in range(3):\n",
    "        # 1. Ketik nama\n",
    "        text_input = driver.find_element(By.TAG_NAME, 'input')\n",
    "        text_input.clear()\n",
    "        text_input.send_keys('hirasawa yui')\n",
    "\n",
    "        # 2. Klik tombol cek khodam\n",
    "        submit_button = driver.find_element(By.ID, 'btn-check')  # Update with actual element ID\n",
    "        submit_button.click()\n",
    "\n",
    "        # 3. Tunggu sampe dapet khodam\n",
    "        wait = WebDriverWait(driver, 10)\n",
    "        div_element = wait.until(EC.presence_of_element_located((By.CLASS_NAME, 'result-text')))  # Update with actual element ID\n",
    "\n",
    "        # 4. Ambil teksnya\n",
    "        result_text = div_element.text\n",
    "        print(result_text)\n",
    "\n",
    "        driver.refresh()\n",
    "finally:\n",
    "    driver.quit()"
   ]
  }
 ],
 "metadata": {
  "kernelspec": {
   "display_name": "Python 3",
   "language": "python",
   "name": "python3"
  },
  "language_info": {
   "codemirror_mode": {
    "name": "ipython",
    "version": 3
   },
   "file_extension": ".py",
   "mimetype": "text/x-python",
   "name": "python",
   "nbconvert_exporter": "python",
   "pygments_lexer": "ipython3",
   "version": "3.12.2"
  }
 },
 "nbformat": 4,
 "nbformat_minor": 2
}
